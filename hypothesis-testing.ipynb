{
 "cells": [
  {
   "cell_type": "code",
   "execution_count": 3,
   "id": "e2d8343f",
   "metadata": {},
   "outputs": [
    {
     "name": "stdout",
     "output_type": "stream",
     "text": [
      "Control Group Completion Rate: 0.12201837420362187\n",
      "Test Group Completion Rate: 0.1446299347191687\n"
     ]
    }
   ],
   "source": [
    "#load and prepare\n",
    "\n",
    "import pandas as pd\n",
    "import numpy as np\n",
    "from scipy import stats\n",
    "\n",
    "# Load datasets\n",
    "df = pd.read_csv('/Users/danielsigge/Desktop/final project/vanguard-ab-test/df_final_demo.txt')\n",
    "df1 = pd.read_csv('/Users/danielsigge/Desktop/final project/vanguard-ab-test/df_final_experiment_clients.txt')\n",
    "df2 = pd.read_csv('/Users/danielsigge/Desktop/final project/vanguard-ab-test/df_final_web_data_pt_1.txt')\n",
    "df3 = pd.read_csv('/Users/danielsigge/Desktop/final project/vanguard-ab-test/df_final_web_data_pt_2.txt')\n",
    "\n",
    "# Combine web data parts\n",
    "combined_df = pd.concat([df2, df3], ignore_index=True)\n",
    "\n",
    "# Merge datasets\n",
    "merged_data = pd.merge(df1, combined_df, on='client_id')\n",
    "merged_data = pd.merge(merged_data, df, on='client_id')\n",
    "\n",
    "# Separate Control and Test groups\n",
    "control_group = merged_data[merged_data['Variation'] == 'Control']\n",
    "test_group = merged_data[merged_data['Variation'] == 'Test']\n",
    "\n",
    "# Calculate completion rates\n",
    "control_completion_rate = control_group[control_group['process_step'] == 'confirm'].shape[0] / control_group.shape[0]\n",
    "test_completion_rate = test_group[test_group['process_step'] == 'confirm'].shape[0] / test_group.shape[0]\n",
    "\n",
    "print(f\"Control Group Completion Rate: {control_completion_rate}\")\n",
    "print(f\"Test Group Completion Rate: {test_completion_rate}\")"
   ]
  },
  {
   "cell_type": "code",
   "execution_count": 5,
   "id": "a58d5d2f",
   "metadata": {},
   "outputs": [
    {
     "name": "stdout",
     "output_type": "stream",
     "text": [
      "Z-statistic: -18.67324116863663\n",
      "P-value: 8.173840595991908e-78\n"
     ]
    }
   ],
   "source": [
    "from statsmodels.stats.proportion import proportions_ztest\n",
    "\n",
    "# Count the number of successes (completed processes)\n",
    "n_control = len(control_group)\n",
    "n_test = len(test_group)\n",
    "successes = np.array([\n",
    "    control_group[control_group['process_step'] == 'confirm'].shape[0],\n",
    "    test_group[test_group['process_step'] == 'confirm'].shape[0]\n",
    "])\n",
    "\n",
    "# Perform z-test\n",
    "z_stat, p_value = proportions_ztest(successes, [n_control, n_test])\n",
    "\n",
    "print(f\"Z-statistic: {z_stat}\")\n",
    "print(f\"P-value: {p_value}\")"
   ]
  },
  {
   "cell_type": "code",
   "execution_count": null,
   "id": "609bd268",
   "metadata": {},
   "outputs": [],
   "source": [
    "#This negative Z-statistic indicates that the completion rate in the Test group (new UI) \n",
    "#is significantly lower than in the Control group (traditional UI). \n",
    "#A negative value suggests that the completion rate in the Test group is less than what \n",
    "#would be expected if there were no difference between the groups.\n",
    "\n",
    "#This very small p-value (<< 0.05 or 0.01) indicates strong evidence against the null hypothesis. \n",
    "#Specifically, it suggests that the observed difference in completion rates between the Control \n",
    "#and Test groups is highly unlikely to have occurred due to random chance alone.\n",
    "\n",
    "#Based on these results, you would likely advise Vanguard that the new UI design did not lead to a \n",
    "#higher completion rate compared to the traditional UI. The decision to reject the null hypothesis \n",
    "#suggests that the differences observed in the completion rates are likely due to the effect of \n",
    "#the UI design change and not due to random chance."
   ]
  },
  {
   "cell_type": "code",
   "execution_count": 9,
   "id": "8a73c690",
   "metadata": {},
   "outputs": [
    {
     "name": "stdout",
     "output_type": "stream",
     "text": [
      "Age - T-statistic: nan, P-value: nan\n",
      "Tenure (Months) - T-statistic: nan, P-value: nan\n",
      "Gender - Chi-square Statistic: 54.2977, P-value: 0.0000\n"
     ]
    }
   ],
   "source": [
    "from scipy.stats import ttest_ind, chi2_contingency\n",
    "\n",
    "combined_df23 = pd.concat([df2, df3], ignore_index=True)\n",
    "merged_data = pd.merge(df, df1, on='client_id')\n",
    "merged_data = pd.merge(merged_data, combined_df23, on='client_id')\n",
    "\n",
    "# Separate Control and Test groups\n",
    "control_group = merged_data[merged_data['Variation'] == 'Control']\n",
    "test_group = merged_data[merged_data['Variation'] == 'Test']\n",
    "\n",
    "# Hypothesis Testing for Age\n",
    "t_stat_age, p_value_age = ttest_ind(control_group['clnt_age'], test_group['clnt_age'])\n",
    "print(f\"Age - T-statistic: {t_stat_age:.4f}, P-value: {p_value_age:.4f}\")\n",
    "\n",
    "# Hypothesis Testing for Tenure (Months)\n",
    "t_stat_tenure, p_value_tenure = ttest_ind(control_group['clnt_tenure_mnth'], test_group['clnt_tenure_mnth'])\n",
    "print(f\"Tenure (Months) - T-statistic: {t_stat_tenure:.4f}, P-value: {p_value_tenure:.4f}\")\n",
    "\n",
    "# Hypothesis Testing for Gender\n",
    "gender_table = pd.crosstab(merged_data['Variation'], merged_data['gendr'])\n",
    "chi2_stat, p_value_gender, dof, expected = chi2_contingency(gender_table)\n",
    "print(f\"Gender - Chi-square Statistic: {chi2_stat:.4f}, P-value: {p_value_gender:.4f}\")\n"
   ]
  },
  {
   "cell_type": "code",
   "execution_count": 14,
   "id": "44079330",
   "metadata": {},
   "outputs": [
    {
     "data": {
      "image/png": "[encoded data removed]",
      "text/plain": [
       "<Figure size 800x600 with 1 Axes>"
      ]
     },
     "metadata": {},
     "output_type": "display_data"
    },
    {
     "name": "stdout",
     "output_type": "stream",
     "text": [
      "gendr          F      M      U  X\n",
      "Variation                        \n",
      "Control    45737  48323  49360  0\n",
      "Test       58565  59690  59524  8\n"
     ]
    }
   ],
   "source": [
    "import matplotlib.pyplot as plt\n",
    "import seaborn as sns\n",
    "\n",
    "# Countplot of gender distribution by variation\n",
    "plt.figure(figsize=(8, 6))\n",
    "sns.countplot(data=merged_data, x='gendr', hue='Variation')\n",
    "plt.title('Gender Distribution by Variation')\n",
    "plt.xlabel('Gender')\n",
    "plt.ylabel('Count')\n",
    "plt.legend(title='Variation')\n",
    "plt.show()\n",
    "\n",
    "\n",
    "# Crosstabulation of gender by variation\n",
    "gender_table = pd.crosstab(merged_data['Variation'], merged_data['gendr'])\n",
    "print(gender_table)"
   ]
  },
  {
   "cell_type": "code",
   "execution_count": 20,
   "id": "6de6cc35",
   "metadata": {},
   "outputs": [
    {
     "name": "stdout",
     "output_type": "stream",
     "text": [
      "float64\n",
      "float64\n",
      "Age - T-statistic: nan, P-value: nan\n",
      "Tenure (Months) - T-statistic: nan, P-value: nan\n"
     ]
    }
   ],
   "source": [
    "print(df['clnt_age'].dtype)\n",
    "print(df['clnt_tenure_mnth'].dtype)\n",
    "df['clnt_age'] = pd.to_numeric(df['clnt_age'], errors='coerce')\n",
    "df['clnt_tenure_mnth'] = pd.to_numeric(df['clnt_tenure_mnth'], errors='coerce')\n",
    "df.dropna(subset=['clnt_age', 'clnt_tenure_mnth'], inplace=True)\n",
    "\n",
    "# Separate Control and Test groups\n",
    "control_group = merged_data[merged_data['Variation'] == 'Control']\n",
    "test_group = merged_data[merged_data['Variation'] == 'Test']\n",
    "\n",
    "# Hypothesis Testing for Age\n",
    "t_stat_age, p_value_age = ttest_ind(control_group['clnt_age'], test_group['clnt_age'])\n",
    "print(f\"Age - T-statistic: {t_stat_age:.4f}, P-value: {p_value_age:.4f}\")\n",
    "\n",
    "# Hypothesis Testing for Tenure (Months)\n",
    "t_stat_tenure, p_value_tenure = ttest_ind(control_group['clnt_tenure_mnth'], test_group['clnt_tenure_mnth'])\n",
    "print(f\"Tenure (Months) - T-statistic: {t_stat_tenure:.4f}, P-value: {p_value_tenure:.4f}\")"
   ]
  },
  {
   "cell_type": "code",
   "execution_count": 18,
   "id": "a90f5fe6",
   "metadata": {},
   "outputs": [
    {
     "name": "stdout",
     "output_type": "stream",
     "text": [
      "[60.5 58.  32.  49.  33.  30.5 58.5 57.5 67.5 54.5 34.5 51.5 62.5 36.\n",
      " 74.  32.5 31.  25.5 42.5 42.  30.  55.  38.  68.5 52.5 54.  63.  48.\n",
      " 66.5 68.  65.  51.  46.  63.5 23.  26.5 56.5 76.5 27.5 39.5 25.  27.\n",
      " 60.  66.  39.  56.  40.  52.  31.5 43.5 35.  19.  64.5 64.  22.5 33.5\n",
      " 36.5 61.  40.5 72.  44.5 28.5 59.5 45.  18.  78.  50.5 29.  37.5 57.\n",
      " 70.  74.5 22.  50.  53.  62.  65.5 29.5 28.  69.5 35.5 71.5 34.  38.5\n",
      " 69.  43.  83.5 21.5 47.  61.5 73.5 71.  59.  21.  44.  83.  47.5 72.5\n",
      " 76.  78.5 55.5 67.  41.5 20.5 75.  24.  79.  26.  41.  23.5 49.5 46.5\n",
      " 45.5 48.5 24.5 75.5 80.  73.  87.  19.5 53.5 18.5 70.5 80.5 86.  37.\n",
      " 85.  17.5 82.  20.  77.5 77.  79.5 88.5 96.  81.  81.5 88.  84.   nan\n",
      " 94.5 89.  92.  82.5 91.5 85.5 95.5 84.5 90.  89.5 93.  90.5 87.5 93.5\n",
      " 86.5 91.  17.  94.  92.5 15.5 16.  16.5 14.5 15.  14.  13.5]\n",
      "[ 73.  94.  64. 198. 145.  71.  66. 361. 369. 189. 100.  99.  67. 193.\n",
      "  58.  47. 122. 136. 101. 103.  70. 152. 160.  80.  88.  86.  65.  68.\n",
      "  93.  85. 168. 142. 228. 223. 305. 286. 285. 280. 254. 253. 278. 221.\n",
      " 216. 212. 204. 260. 116. 130. 177. 159. 190.  89.  91. 129. 329.  92.\n",
      "  82. 169. 239.  69. 178.  95.  63. 187. 288. 261. 251. 250.  56.  60.\n",
      " 123. 175. 188.  59. 336. 149. 156. 330. 155. 167.  96. 242. 163.  81.\n",
      " 182. 134. 113. 172. 120. 105. 271. 244. 200. 157.  78. 151. 121. 184.\n",
      " 335. 357. 111. 185.  76. 148.  97.  83. 347. 324. 162. 194.  74. 186.\n",
      " 300. 289. 295. 282. 270. 246. 229. 206. 109. 343. 176. 144. 161. 179.\n",
      " 106. 154. 119.  75. 166. 143. 202. 326. 298. 290. 279. 252.  57. 334.\n",
      " 150.  46. 114. 174.  72. 107. 164. 131. 554. 140. 118. 292. 273. 257.\n",
      " 225. 128. 135. 258. 126. 359. 210. 263. 262. 255. 214. 310. 141. 319.\n",
      " 395. 108. 181. 173.  55. 203. 297. 213. 183. 115. 117. 299. 287. 269.\n",
      " 222. 195. 127. 245. 110. 102.  54. 277. 276. 274. 249. 147. 153.  84.\n",
      " 132. 312.  79. 146. 346. 348. 332. 170. 267. 191.  38. 205. 265. 264.\n",
      " 234. 233. 208.  53. 399. 197. 139.  61. 124. 165. 236. 219. 215. 226.\n",
      " 388. 421. 192. 306. 266. 240. 231. 180. 296.  87. 158. 227. 196. 199.\n",
      "  34. 397.  90. 349.  42. 424. 337. 207. 104. 338. 137. 201.  62. 294.\n",
      " 230. 220. 209.  49. 321. 345. 138.  33. 238. 459. 171. 355.  98. 237.\n",
      " 235. 370. 352.  48. 303. 259. 218. 322. 428. 247. 241. 341. 302. 217.\n",
      " 360. 385. 383. 576. 293. 243. 350. 340.  36. 256. 323. 354. 232. 318.\n",
      " 313.  51.  77. 430. 420. 268. 275. 317. 339.  35. 327. 407. 301. 133.\n",
      " 211. 125. 112.  43. 281.  45. 316.  40. 325. 291. 368. 384. 248. 382.\n",
      " 314. 408. 284. 283. 376. 304. 309. 356. 394. 386. 311. 419. 411. 406.\n",
      " 409. 464. 224. 333. 371. 358. 401. 320. 413. 375. 422. 272.  52. 342.\n",
      " 307. 328. 381. 434. 353. 612. 400.  50. 344. 367. 415. 364. 374. 416.\n",
      " 391. 431.  nan 423. 396. 315. 378.  44. 379. 569. 596. 393. 392.  41.\n",
      " 362. 451. 439. 331. 468. 418. 442. 389.  37. 481. 366. 351. 390. 402.\n",
      " 463.  39. 432. 403. 417. 461. 380. 482. 460. 372. 308. 373. 465. 404.\n",
      " 412. 387. 561. 669. 429. 585. 414. 365. 427. 504. 433. 444. 456. 410.\n",
      " 441. 512. 445. 539. 516. 363. 454. 589. 425. 377. 457. 443. 398. 484.\n",
      " 473. 507. 475. 449. 668. 602. 405. 446. 608. 447. 440. 453. 613. 462.\n",
      " 483. 479. 562. 485. 655. 448. 472. 564. 526. 532. 511. 492. 426. 593.\n",
      " 455. 450. 581. 550. 624. 571. 563. 469. 661. 436. 610. 586. 535. 603.\n",
      " 631. 509. 614. 466. 667. 749. 480.]\n"
     ]
    }
   ],
   "source": []
  },
  {
   "cell_type": "code",
   "execution_count": 24,
   "id": "11ef370d",
   "metadata": {},
   "outputs": [
    {
     "name": "stdout",
     "output_type": "stream",
     "text": [
      "Average time spent on each step for Control and Test groups:\n",
      "Control:\n",
      " - start: 179.91 seconds\n",
      " - step_1: 54.37 seconds\n",
      " - step_2: 43.93 seconds\n",
      " - step_3: 91.66 seconds\n",
      " - confirm: 127.63 seconds\n",
      "Test:\n",
      " - start: 156.33 seconds\n",
      " - step_1: 49.10 seconds\n",
      " - step_2: 62.82 seconds\n",
      " - step_3: 96.58 seconds\n",
      " - confirm: 126.08 seconds\n"
     ]
    }
   ],
   "source": [
    "import pandas as pd\n",
    "from datetime import datetime\n",
    "\n",
    "# Assuming merged_data is your DataFrame with required columns\n",
    "\n",
    "# Convert timestamp to datetime if not already\n",
    "merged_data['date_time'] = pd.to_datetime(merged_data['date_time'])\n",
    "\n",
    "# Sort data by client_id, visit_id, and timestamp\n",
    "merged_data.sort_values(by=['client_id', 'visit_id', 'date_time'], inplace=True)\n",
    "\n",
    "# Calculate time differences between consecutive steps for each visit\n",
    "merged_data['step_duration'] = merged_data.groupby(['Variation', 'client_id', 'visit_id'])['date_time'].diff()\n",
    "\n",
    "# Convert step_duration to seconds for easier averaging\n",
    "merged_data['step_duration_seconds'] = merged_data['step_duration'].dt.total_seconds()\n",
    "\n",
    "# Drop NaN values (for the first step of each visit)\n",
    "merged_data.dropna(subset=['step_duration_seconds'], inplace=True)\n",
    "\n",
    "# Define the process steps in order\n",
    "process_steps = ['start', 'step_1', 'step_2', 'step_3', 'confirm']\n",
    "\n",
    "# Calculate average time spent on each step for Control and Test groups separately\n",
    "avg_time_per_step = {}\n",
    "\n",
    "for group_name, group_data in merged_data.groupby('Variation'):\n",
    "    avg_time_per_step[group_name] = {}\n",
    "    for step in process_steps:\n",
    "        avg_time_per_step[group_name][step] = group_data[group_data['process_step'] == step]['step_duration_seconds'].mean()\n",
    "\n",
    "# Print average time spent on each step for Control and Test groups\n",
    "print(\"Average time spent on each step for Control and Test groups:\")\n",
    "for group_name, step_times in avg_time_per_step.items():\n",
    "    print(f\"{group_name}:\")\n",
    "    for step, avg_time in step_times.items():\n",
    "        print(f\" - {step}: {avg_time:.2f} seconds\")"
   ]
  },
  {
   "cell_type": "code",
   "execution_count": null,
   "id": "54370a05",
   "metadata": {},
   "outputs": [],
   "source": []
  }
 ],
 "metadata": {
  "kernelspec": {
   "display_name": "Python 3 (ipykernel)",
   "language": "python",
   "name": "python3"
  },
  "language_info": {
   "codemirror_mode": {
    "name": "ipython",
    "version": 3
   },
   "file_extension": ".py",
   "mimetype": "text/x-python",
   "name": "python",
   "nbconvert_exporter": "python",
   "pygments_lexer": "ipython3",
   "version": "3.11.7"
  }
 },
 "nbformat": 4,
 "nbformat_minor": 5
}
